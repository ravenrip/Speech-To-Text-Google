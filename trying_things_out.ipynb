{
 "cells": [
  {
   "cell_type": "code",
   "execution_count": 36,
   "metadata": {},
   "outputs": [],
   "source": [
    "# %pip install SpeechRecognition\n",
    "# %pip install google-api-python-client\n",
    "# %pip install --upgrade google-auth\n",
    "# %pip install --upgrade google-cloud-storage\n",
    "# %pip install --upgrade google-cloud-speech\n",
    "# %pip install pydub\n",
    "# %pip install soundfile\n",
    "# %pip install wave\n",
    "# %pip install numpy"
   ]
  },
  {
   "attachments": {},
   "cell_type": "markdown",
   "metadata": {},
   "source": [
    "*Installed FFMPEG on macOS:* \n",
    "`>brew install ffmpeg`"
   ]
  },
  {
   "cell_type": "code",
   "execution_count": 37,
   "metadata": {},
   "outputs": [],
   "source": [
    "import os\n",
    "import time\n",
    "#from google.cloud import speech_v1p1beta1 as speech\n",
    "#from google.cloud.speech_v1p1beta1 import enums\n",
    "from gcp_stt_util import get_filename, save_url_to_gcp_bucket, speech_to_text_beta"
   ]
  },
  {
   "cell_type": "code",
   "execution_count": 38,
   "metadata": {},
   "outputs": [],
   "source": [
    "from google.cloud import storage\n",
    "from google.oauth2 import service_account\n",
    "from googleapiclient.discovery import build\n",
    "from googleapiclient.errors import HttpError"
   ]
  },
  {
   "attachments": {},
   "cell_type": "markdown",
   "metadata": {},
   "source": [
    "### Populate the Google Cloud Storage Credentials from the local credentials .json file"
   ]
  },
  {
   "cell_type": "code",
   "execution_count": 39,
   "metadata": {},
   "outputs": [],
   "source": [
    "# OS ENV (Setup for Mac)\n",
    "os.environ[\n",
    "        \"GOOGLE_APPLICATION_CREDENTIALS\"\n",
    "    ] = \"../Speech-To-Text-Google/gcloud_do_not_share/dictation-sample-82bc323451d9.json\"\n"
   ]
  },
  {
   "attachments": {},
   "cell_type": "markdown",
   "metadata": {},
   "source": [
    "**Create the audio file dictionary**"
   ]
  },
  {
   "cell_type": "code",
   "execution_count": 40,
   "metadata": {},
   "outputs": [],
   "source": [
    "audio = dict(\n",
    "    uri=\"gs://stt_temp_lg2/Audacity_Test_1.mp3\"\n",
    ")"
   ]
  },
  {
   "cell_type": "code",
   "execution_count": 41,
   "metadata": {},
   "outputs": [],
   "source": [
    "os.environ[\"GOOGLE_PROJECT_ID\"] = \"dictation-sample\"\n",
    "credentials_file = os.environ.get(\"GOOGLE_APPLICATION_CREDENTIALS\")\n",
    "credentials = service_account.Credentials.from_service_account_file(\n",
    "    credentials_file,\n",
    "    scopes=[\"https://www.googleapis.com/auth/cloud-platform\"],\n",
    ")"
   ]
  },
  {
   "cell_type": "code",
   "execution_count": 42,
   "metadata": {},
   "outputs": [],
   "source": [
    "def create_bucket_if_not_exists(bucket_name):\n",
    "    storage_client = storage.Client()\n",
    "    bucket = storage_client.bucket(bucket_name)\n",
    "    if not bucket.exists():\n",
    "        bucket.create()\n",
    "        print(f'Bucket {bucket_name} created.')\n",
    "    else:\n",
    "        print(f'Bucket {bucket_name} already exists.')\n",
    "    return bucket\n",
    "\n",
    "def upload_file_to_bucket(bucket, from_file_path, file_name):\n",
    "    blob = bucket.blob(file_name)\n",
    "    blob.upload_from_filename(from_file_path)\n",
    "    print(f'File {file_name} uploaded to bucket.')\n",
    "\n",
    "def delete_file_from_bucket(bucket, file_name):\n",
    "    blob = bucket.blob(file_name)\n",
    "    blob.delete()\n",
    "    print(f'File {file_name} deleted from bucket.')\n",
    "\n",
    "def get_text_from_audio_file():\n",
    "    print('Performing STT')\n",
    "    time.sleep(5)\n",
    "    print('STT completed successfully')\n",
    "    "
   ]
  },
  {
   "cell_type": "code",
   "execution_count": 56,
   "metadata": {},
   "outputs": [],
   "source": [
    "def speech_to_text(gcs_uri, _sample_rate_hertz=16000):\n",
    "    from google.cloud import speech_v1 as speech\n",
    "\n",
    "    # sourcery skip: inline-immediately-returned-variable\n",
    "    \"\"\"\n",
    "    returns the Google Speech-To-Text result\n",
    "\n",
    "    :param _type_ config: the configuration used for the google.cloud.speech.configuration\n",
    "    :param _type_ audio: the fill GCP bucket uri for the audio file\n",
    "    \"\"\"\n",
    "    # client = speech.SpeechClient()\n",
    "    # response = client.recognize(config=config, audio=audio)\n",
    "    # print_sentences(response)\n",
    "    # return response\n",
    "\n",
    "    \"\"\"Asynchronously transcribes the audio file specified by the gcs_uri.\"\"\"\n",
    "    client = speech.SpeechClient()\n",
    "\n",
    "    audio = speech.RecognitionAudio(uri=gcs_uri)\n",
    "    config = speech.RecognitionConfig(\n",
    "        encoding=speech.RecognitionConfig.AudioEncoding.FLAC,\n",
    "        sample_rate_hertz=_sample_rate_hertz,\n",
    "        language_code=\"en-US\",\n",
    "    )\n",
    "\n",
    "    operation = client.long_running_recognize(config=config, audio=audio)\n",
    "\n",
    "    print(\"Waiting for operation to complete...\")\n",
    "    response = operation.result(timeout=1800)\n",
    "\n",
    "    \n",
    "    # transcript = ''\n",
    "    # for result in sorted(response.results, key=lambda x: x.result_index):\n",
    "    #     transcript += result.alternatives[0].transcript\n",
    "\n",
    "    # print(transcript)\n",
    "    for result in response.results:\n",
    "            # The first alternative is the most likely one for this portion.\n",
    "            print(f\"Transcript: {result.alternatives[0].transcript}\")\n",
    "            print(f\"Confidence: {result.alternatives[0].confidence}\")\n"
   ]
  },
  {
   "cell_type": "code",
   "execution_count": 49,
   "metadata": {},
   "outputs": [],
   "source": [
    "from pydub import AudioSegment\n",
    "import wave\n",
    "import soundfile as sf\n",
    "\n",
    "\n",
    "def convert_mp3_to_flac(mp3_file):\n",
    "    sound = AudioSegment.from_file(mp3_file, format='mp3')\n",
    "    file_dir, file_name = os.path.split(mp3_file)\n",
    "    flac_file = os.path.join(file_dir, f'{os.path.splitext(file_name)[0]}.flac')\n",
    "    sound.export(flac_file, format='flac')\n",
    "    file_dir, flac_file = os.path.split(flac_file)\n",
    "    print(f'File {mp3_file} converted to {flac_file} format.')\n",
    "    return flac_file\n",
    "\n",
    "def get_sample_rate_hertz(media_file):\n",
    "    if media_file.endswith('flac'):         \n",
    "        data, sample_rate = sf.read(media_file)    \n",
    "    elif media_file.endswith('.wav'): \n",
    "        with wave.open(media_file, 'rb') as f:\n",
    "            sample_rate = f.getframerate()\n",
    "    return sample_rate\n"
   ]
  },
  {
   "attachments": {},
   "cell_type": "markdown",
   "metadata": {},
   "source": [
    "**Create the bucket, upload the audio file**"
   ]
  },
  {
   "cell_type": "code",
   "execution_count": 65,
   "metadata": {},
   "outputs": [
    {
     "name": "stdout",
     "output_type": "stream",
     "text": [
      "Bucket lg2_solutions_echo_media already exists.\n",
      "File ./data/Audacity_Test_1.mp3 converted to Audacity_Test_1.flac format.\n",
      "File Audacity_Test_1.flac uploaded to bucket.\n"
     ]
    }
   ],
   "source": [
    "BUCKET_NAME = 'lg2_solutions_echo_media'\n",
    "FILE_PATH = './data/Audacity_Test_1.mp3'\n",
    "#FILE_PATH = './data/MarriageCounselor_Couple_1.mp3'\n",
    "\n",
    "bucket = create_bucket_if_not_exists(BUCKET_NAME)\n",
    "file_dir, file_name = os.path.split(FILE_PATH)\n",
    "if file_name[-3:] == \"mp3\":\n",
    "    file_name = convert_mp3_to_flac(FILE_PATH)\n",
    "    FILE_PATH = os.path.join(file_dir, file_name)\n",
    "upload_file_to_bucket(bucket, FILE_PATH, file_name)"
   ]
  },
  {
   "attachments": {},
   "cell_type": "markdown",
   "metadata": {},
   "source": [
    "## GET THE STT DATA ##"
   ]
  },
  {
   "cell_type": "code",
   "execution_count": 66,
   "metadata": {},
   "outputs": [
    {
     "name": "stdout",
     "output_type": "stream",
     "text": [
      "Waiting for operation to complete...\n",
      "Transcript: this is a test\n",
      "Confidence: 0.9876290559768677\n",
      "Transcript:  to see how well audacity and work as a recording tool\n",
      "Confidence: 0.961486279964447\n"
     ]
    }
   ],
   "source": [
    "#get_text_from_audio_file()\n",
    "audio_to_text = dict(uri=f\"gs://{BUCKET_NAME}/{file_name}\")\n",
    "sample_rate = get_sample_rate_hertz(FILE_PATH)\n",
    "#speech_to_text(audio_to_text[\"uri\"],sample_rate)\n",
    "speech_to_text(audio_to_text[\"uri\"],sample_rate)\n"
   ]
  },
  {
   "cell_type": "code",
   "execution_count": 67,
   "metadata": {},
   "outputs": [
    {
     "name": "stdout",
     "output_type": "stream",
     "text": [
      "File Audacity_Test_1.flac deleted from bucket.\n"
     ]
    }
   ],
   "source": [
    "delete_file_from_bucket(bucket, file_name)"
   ]
  },
  {
   "attachments": {},
   "cell_type": "markdown",
   "metadata": {},
   "source": [
    "**Delete the file from the bucket**"
   ]
  },
  {
   "attachments": {},
   "cell_type": "markdown",
   "metadata": {},
   "source": [
    "**Create or find the bucket**"
   ]
  },
  {
   "cell_type": "code",
   "execution_count": null,
   "metadata": {},
   "outputs": [],
   "source": [
    "file_path = os.path.dirname('./data/Audacity_Test_1.mp3')\n",
    "bucket_name = 'lg2_solutions_echo_media'\n",
    "storage_client = storage.Client()\n",
    "bucket = storage_client.bucket(bucket_name)\n",
    "if bucket.exists():\n",
    "    bucket = storage_client.get_bucket(bucket_name)\n",
    "    print(f\"Bucket found: {bucket_name}\")\n",
    "else:\n",
    "    bucket = storage_client.bucket(bucket_name)\n",
    "    bucket.storage_class = \"STANDARD\"\n",
    "    new_bucket = storage_client.create_bucket(bucket, location=\"us\")\n",
    "    print(\n",
    "        f\"Created bucket {new_bucket.name} in {new_bucket.location} with storage class {new_bucket.storage_class}\"\n",
    "    )"
   ]
  },
  {
   "attachments": {},
   "cell_type": "markdown",
   "metadata": {},
   "source": [
    "**Save the file in the bucket**"
   ]
  },
  {
   "attachments": {},
   "cell_type": "markdown",
   "metadata": {},
   "source": [
    "# save the ./data/Audacity_Test_1.mp3 file into the bucket\n",
    "with open(file_path, 'rb') as f:\n",
    "    \n",
    "\n"
   ]
  }
 ],
 "metadata": {
  "kernelspec": {
   "display_name": "Python 3",
   "language": "python",
   "name": "python3"
  },
  "language_info": {
   "codemirror_mode": {
    "name": "ipython",
    "version": 3
   },
   "file_extension": ".py",
   "mimetype": "text/x-python",
   "name": "python",
   "nbconvert_exporter": "python",
   "pygments_lexer": "ipython3",
   "version": "3.10.9"
  },
  "orig_nbformat": 4,
  "vscode": {
   "interpreter": {
    "hash": "aee8b7b246df8f9039afb4144a1f6fd8d2ca17a180786b69acc140d282b71a49"
   }
  }
 },
 "nbformat": 4,
 "nbformat_minor": 2
}
