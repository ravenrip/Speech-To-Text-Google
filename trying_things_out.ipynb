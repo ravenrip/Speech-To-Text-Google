{
 "cells": [
  {
   "cell_type": "code",
   "execution_count": 2,
   "metadata": {},
   "outputs": [],
   "source": [
    "# %pip install SpeechRecognition\n",
    "# %pip install google-api-python-client\n",
    "# %pip install --upgrade google-auth\n",
    "# %pip install --upgrade google-cloud-storage\n",
    "# %pip install --upgrade google-cloud-speech\n",
    "# %pip install pydub\n",
    "# %pip install soundfile\n",
    "# %pip install wave\n",
    "# %pip install numpy"
   ]
  },
  {
   "cell_type": "code",
   "execution_count": 11,
   "metadata": {},
   "outputs": [],
   "source": [
    "import os\n",
    "import time\n",
    "#from google.cloud import speech_v1p1beta1 as speech\n",
    "#from google.cloud.speech_v1p1beta1 import enums\n",
    "from gcp_stt_util import get_filename, save_url_to_gcp_bucket, speech_to_text_beta"
   ]
  },
  {
   "cell_type": "code",
   "execution_count": 4,
   "metadata": {},
   "outputs": [],
   "source": [
    "\n",
    "from google.cloud import storage\n",
    "from google.oauth2 import service_account\n",
    "from googleapiclient.discovery import build\n",
    "from googleapiclient.errors import HttpError"
   ]
  },
  {
   "attachments": {},
   "cell_type": "markdown",
   "metadata": {},
   "source": [
    "### Populate the Google Cloud Storage Credentials from the local credentials .json file"
   ]
  },
  {
   "cell_type": "code",
   "execution_count": 5,
   "metadata": {},
   "outputs": [],
   "source": [
    "os.environ[\n",
    "        \"GOOGLE_APPLICATION_CREDENTIALS\"\n",
    "    ] = \"C:\\Dev\\LG2 Solutions\\Speech-To-Text-Google\\gcloud_do_not_share\\dictation-sample-82bc323451d9.json\""
   ]
  },
  {
   "attachments": {},
   "cell_type": "markdown",
   "metadata": {},
   "source": [
    "**Create the audio file dictionary**"
   ]
  },
  {
   "cell_type": "code",
   "execution_count": 6,
   "metadata": {},
   "outputs": [],
   "source": [
    "audio = dict(\n",
    "    uri=\"gs://stt_temp_lg2/Audacity_Test_1.mp3\"\n",
    ")"
   ]
  },
  {
   "cell_type": "code",
   "execution_count": 7,
   "metadata": {},
   "outputs": [],
   "source": [
    "os.environ[\"GOOGLE_PROJECT_ID\"] = \"dictation-sample\"\n",
    "credentials_file = os.environ.get(\"GOOGLE_APPLICATION_CREDENTIALS\")\n",
    "credentials = service_account.Credentials.from_service_account_file(\n",
    "    credentials_file,\n",
    "    scopes=[\"https://www.googleapis.com/auth/cloud-platform\"],\n",
    ")"
   ]
  },
  {
   "cell_type": "code",
   "execution_count": 8,
   "metadata": {},
   "outputs": [],
   "source": [
    "def create_bucket_if_not_exists(bucket_name):\n",
    "    storage_client = storage.Client()\n",
    "    bucket = storage_client.bucket(bucket_name)\n",
    "    if not bucket.exists():\n",
    "        bucket.create()\n",
    "        print('Bucket {} created.'.format(bucket_name))\n",
    "    else:\n",
    "        print('Bucket {} already exists.'.format(bucket_name))\n",
    "    return bucket\n",
    "\n",
    "def upload_file_to_bucket(bucket, from_file_path, file_name):\n",
    "    blob = bucket.blob(file_name)\n",
    "    blob.upload_from_filename(from_file_path)\n",
    "    print('File {} uploaded to bucket.'.format(file_name))\n",
    "\n",
    "def delete_file_from_bucket(bucket, file_name):\n",
    "    blob = bucket.blob(file_name)\n",
    "    blob.delete()\n",
    "    print('File {} deleted from bucket.'.format(file_name))\n",
    "\n",
    "def get_text_from_audio_file():\n",
    "    print('Performing STT')\n",
    "    time.sleep(5)\n",
    "    print('STT completed successfully')\n",
    "    "
   ]
  },
  {
   "cell_type": "code",
   "execution_count": 9,
   "metadata": {},
   "outputs": [],
   "source": [
    "from pydub import AudioSegment\n",
    "import wave\n",
    "import soundfile as sf\n",
    "\n",
    "\n",
    "def convert_mp3_to_flac(mp3_file):\n",
    "    sound = AudioSegment.from_file(mp3_file, format='mp3')\n",
    "    file_dir, file_name = os.path.split(mp3_file)\n",
    "    flac_file = os.path.join(file_dir, os.path.splitext(file_name)[0] + '.flac')\n",
    "    sound.export(flac_file, format='flac')\n",
    "    file_dir, flac_file = os.path.split(flac_file)\n",
    "    print('File {} converted to {} format.'.format(mp3_file, flac_file))\n",
    "    return flac_file\n",
    "\n",
    "def get_sample_rate_hertz(media_file):\n",
    "    if media_file.endswith('flac'):         \n",
    "        data, sample_rate = sf.read(media_file)    \n",
    "    elif media_file.endswith('.wav'): \n",
    "        with wave.open(media_file, 'rb') as f:\n",
    "            sample_rate = f.getframerate()\n",
    "    return sample_rate\n"
   ]
  },
  {
   "attachments": {},
   "cell_type": "markdown",
   "metadata": {},
   "source": [
    "**Create the bucket, upload the audio file**"
   ]
  },
  {
   "cell_type": "code",
   "execution_count": 12,
   "metadata": {},
   "outputs": [
    {
     "name": "stdout",
     "output_type": "stream",
     "text": [
      "Bucket lg2_solutions_echo_media already exists.\n",
      "File ./data/Audacity_Test_1.mp3 converted to Audacity_Test_1.flac format.\n",
      "File Audacity_Test_1.flac uploaded to bucket.\n"
     ]
    }
   ],
   "source": [
    "BUCKET_NAME = 'lg2_solutions_echo_media'\n",
    "FILE_PATH = './data/Audacity_Test_1.mp3'\n",
    "\n",
    "bucket = create_bucket_if_not_exists(BUCKET_NAME)\n",
    "file_dir, file_name = os.path.split(FILE_PATH)\n",
    "if file_name[-3:] == \"mp3\":\n",
    "    file_name = convert_mp3_to_flac(FILE_PATH)\n",
    "    FILE_PATH = os.path.join(file_dir, file_name)\n",
    "upload_file_to_bucket(bucket, FILE_PATH, file_name)"
   ]
  },
  {
   "attachments": {},
   "cell_type": "markdown",
   "metadata": {},
   "source": [
    "## GET THE STT DATA ##"
   ]
  },
  {
   "cell_type": "code",
   "execution_count": 13,
   "metadata": {},
   "outputs": [
    {
     "ename": "ImportError",
     "evalue": "cannot import name 'enums' from 'google.cloud.speech_v1p1beta1' (c:\\Dev\\LG2 Solutions\\Speech-To-Text-Google\\.venv\\Lib\\site-packages\\google\\cloud\\speech_v1p1beta1\\__init__.py)",
     "output_type": "error",
     "traceback": [
      "\u001b[1;31m---------------------------------------------------------------------------\u001b[0m",
      "\u001b[1;31mImportError\u001b[0m                               Traceback (most recent call last)",
      "Cell \u001b[1;32mIn[13], line 5\u001b[0m\n\u001b[0;32m      3\u001b[0m sample_rate \u001b[39m=\u001b[39m get_sample_rate_hertz(FILE_PATH)\n\u001b[0;32m      4\u001b[0m \u001b[39m#speech_to_text(audio_to_text[\"uri\"],sample_rate)\u001b[39;00m\n\u001b[1;32m----> 5\u001b[0m speech_to_text_beta(audio_to_text[\u001b[39m\"\u001b[39;49m\u001b[39muri\u001b[39;49m\u001b[39m\"\u001b[39;49m])\n",
      "File \u001b[1;32mc:\\Dev\\LG2 Solutions\\Speech-To-Text-Google\\gcp_stt_util.py:19\u001b[0m, in \u001b[0;36mspeech_to_text_beta\u001b[1;34m(gcs_uri)\u001b[0m\n\u001b[0;32m     17\u001b[0m \u001b[39mdef\u001b[39;00m \u001b[39mspeech_to_text_beta\u001b[39m(gcs_uri):\n\u001b[0;32m     18\u001b[0m     \u001b[39mfrom\u001b[39;00m \u001b[39mgoogle\u001b[39;00m\u001b[39m.\u001b[39;00m\u001b[39mcloud\u001b[39;00m \u001b[39mimport\u001b[39;00m speech_v1p1beta1 \u001b[39mas\u001b[39;00m speech\n\u001b[1;32m---> 19\u001b[0m     \u001b[39mfrom\u001b[39;00m \u001b[39mgoogle\u001b[39;00m\u001b[39m.\u001b[39;00m\u001b[39mcloud\u001b[39;00m\u001b[39m.\u001b[39;00m\u001b[39mspeech_v1p1beta1\u001b[39;00m \u001b[39mimport\u001b[39;00m enums, types\n\u001b[0;32m     21\u001b[0m     client \u001b[39m=\u001b[39m speech\u001b[39m.\u001b[39mSpeechClient()\n\u001b[0;32m     22\u001b[0m     audio \u001b[39m=\u001b[39m types\u001b[39m.\u001b[39mRecognitionAudio(uri\u001b[39m=\u001b[39mgcs_uri)\n",
      "\u001b[1;31mImportError\u001b[0m: cannot import name 'enums' from 'google.cloud.speech_v1p1beta1' (c:\\Dev\\LG2 Solutions\\Speech-To-Text-Google\\.venv\\Lib\\site-packages\\google\\cloud\\speech_v1p1beta1\\__init__.py)"
     ]
    }
   ],
   "source": [
    "#get_text_from_audio_file()\n",
    "audio_to_text = dict(uri=f\"gs://{BUCKET_NAME}/{file_name}\")\n",
    "sample_rate = get_sample_rate_hertz(FILE_PATH)\n",
    "#speech_to_text(audio_to_text[\"uri\"],sample_rate)\n",
    "speech_to_text_beta(audio_to_text[\"uri\"])\n"
   ]
  },
  {
   "cell_type": "code",
   "execution_count": 10,
   "metadata": {},
   "outputs": [
    {
     "ename": "NameError",
     "evalue": "name 'bucket' is not defined",
     "output_type": "error",
     "traceback": [
      "\u001b[1;31m---------------------------------------------------------------------------\u001b[0m",
      "\u001b[1;31mNameError\u001b[0m                                 Traceback (most recent call last)",
      "Cell \u001b[1;32mIn[10], line 1\u001b[0m\n\u001b[1;32m----> 1\u001b[0m delete_file_from_bucket(bucket, file_name)\n",
      "\u001b[1;31mNameError\u001b[0m: name 'bucket' is not defined"
     ]
    }
   ],
   "source": [
    "delete_file_from_bucket(bucket, file_name)"
   ]
  },
  {
   "attachments": {},
   "cell_type": "markdown",
   "metadata": {},
   "source": [
    "**Delete the file from the bucket**"
   ]
  },
  {
   "attachments": {},
   "cell_type": "markdown",
   "metadata": {},
   "source": [
    "**Create or find the bucket**"
   ]
  },
  {
   "cell_type": "code",
   "execution_count": null,
   "metadata": {},
   "outputs": [],
   "source": [
    "file_path = os.path.dirname('./data/Audacity_Test_1.mp3')\n",
    "bucket_name = 'lg2_solutions_echo_media'\n",
    "storage_client = storage.Client()\n",
    "bucket = storage_client.bucket(bucket_name)\n",
    "if bucket.exists():\n",
    "    bucket = storage_client.get_bucket(bucket_name)\n",
    "    print(f\"Bucket found: {bucket_name}\")\n",
    "else:\n",
    "    bucket = storage_client.bucket(bucket_name)\n",
    "    bucket.storage_class = \"STANDARD\"\n",
    "    new_bucket = storage_client.create_bucket(bucket, location=\"us\")\n",
    "    print(\n",
    "        f\"Created bucket {new_bucket.name} in {new_bucket.location} with storage class {new_bucket.storage_class}\"\n",
    "    )"
   ]
  },
  {
   "attachments": {},
   "cell_type": "markdown",
   "metadata": {},
   "source": [
    "**Save the file in the bucket**"
   ]
  },
  {
   "attachments": {},
   "cell_type": "markdown",
   "metadata": {},
   "source": [
    "# save the ./data/Audacity_Test_1.mp3 file into the bucket\n",
    "with open(file_path, 'rb') as f:\n",
    "    \n",
    "\n"
   ]
  }
 ],
 "metadata": {
  "kernelspec": {
   "display_name": ".venv",
   "language": "python",
   "name": "python3"
  },
  "language_info": {
   "codemirror_mode": {
    "name": "ipython",
    "version": 3
   },
   "file_extension": ".py",
   "mimetype": "text/x-python",
   "name": "python",
   "nbconvert_exporter": "python",
   "pygments_lexer": "ipython3",
   "version": "3.11.2"
  },
  "orig_nbformat": 4,
  "vscode": {
   "interpreter": {
    "hash": "1d99f96660dc60c5a21379f6d9bca5a40d797b3e5e8e272b51ef8c2eaa3b74e1"
   }
  }
 },
 "nbformat": 4,
 "nbformat_minor": 2
}
